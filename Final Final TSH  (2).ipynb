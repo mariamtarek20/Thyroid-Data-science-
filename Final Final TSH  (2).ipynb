{
 "cells": [
  {
   "cell_type": "code",
   "execution_count": 1,
   "id": "dae0ee1e",
   "metadata": {},
   "outputs": [],
   "source": [
    "import pandas as pd\n",
    "import numpy as np\n",
    "import matplotlib.pyplot as plt\n",
    "import seaborn as sns\n",
    "df = pd.read_csv(\"hypothyroid.csv\")"
   ]
  },
  {
   "cell_type": "code",
   "execution_count": 2,
   "id": "38db80d9",
   "metadata": {},
   "outputs": [
    {
     "name": "stdout",
     "output_type": "stream",
     "text": [
      "<class 'pandas.core.frame.DataFrame'>\n",
      "RangeIndex: 3772 entries, 0 to 3771\n",
      "Data columns (total 30 columns):\n",
      " #   Column                     Non-Null Count  Dtype \n",
      "---  ------                     --------------  ----- \n",
      " 0   age                        3772 non-null   object\n",
      " 1   sex                        3772 non-null   object\n",
      " 2   on thyroxine               3772 non-null   object\n",
      " 3   query on thyroxine         3772 non-null   object\n",
      " 4   on antithyroid medication  3772 non-null   object\n",
      " 5   sick                       3772 non-null   object\n",
      " 6   pregnant                   3772 non-null   object\n",
      " 7   thyroid surgery            3772 non-null   object\n",
      " 8   I131 treatment             3772 non-null   object\n",
      " 9   query hypothyroid          3772 non-null   object\n",
      " 10  query hyperthyroid         3772 non-null   object\n",
      " 11  lithium                    3772 non-null   object\n",
      " 12  goitre                     3772 non-null   object\n",
      " 13  tumor                      3772 non-null   object\n",
      " 14  hypopituitary              3772 non-null   object\n",
      " 15  psych                      3772 non-null   object\n",
      " 16  TSH measured               3772 non-null   object\n",
      " 17  TSH                        3772 non-null   object\n",
      " 18  T3 measured                3772 non-null   object\n",
      " 19  T3                         3772 non-null   object\n",
      " 20  TT4 measured               3772 non-null   object\n",
      " 21  TT4                        3772 non-null   object\n",
      " 22  T4U measured               3772 non-null   object\n",
      " 23  T4U                        3772 non-null   object\n",
      " 24  FTI measured               3772 non-null   object\n",
      " 25  FTI                        3772 non-null   object\n",
      " 26  TBG measured               3772 non-null   object\n",
      " 27  TBG                        3772 non-null   object\n",
      " 28  referral source            3772 non-null   object\n",
      " 29  binaryClass                3772 non-null   object\n",
      "dtypes: object(30)\n",
      "memory usage: 884.2+ KB\n"
     ]
    }
   ],
   "source": [
    "df.info()"
   ]
  },
  {
   "cell_type": "code",
   "execution_count": 3,
   "id": "769d58d6",
   "metadata": {},
   "outputs": [
    {
     "data": {
      "text/html": [
       "<div>\n",
       "<style scoped>\n",
       "    .dataframe tbody tr th:only-of-type {\n",
       "        vertical-align: middle;\n",
       "    }\n",
       "\n",
       "    .dataframe tbody tr th {\n",
       "        vertical-align: top;\n",
       "    }\n",
       "\n",
       "    .dataframe thead th {\n",
       "        text-align: right;\n",
       "    }\n",
       "</style>\n",
       "<table border=\"1\" class=\"dataframe\">\n",
       "  <thead>\n",
       "    <tr style=\"text-align: right;\">\n",
       "      <th></th>\n",
       "      <th>age</th>\n",
       "      <th>sex</th>\n",
       "      <th>on thyroxine</th>\n",
       "      <th>query on thyroxine</th>\n",
       "      <th>on antithyroid medication</th>\n",
       "      <th>sick</th>\n",
       "      <th>pregnant</th>\n",
       "      <th>thyroid surgery</th>\n",
       "      <th>I131 treatment</th>\n",
       "      <th>query hypothyroid</th>\n",
       "      <th>...</th>\n",
       "      <th>TT4 measured</th>\n",
       "      <th>TT4</th>\n",
       "      <th>T4U measured</th>\n",
       "      <th>T4U</th>\n",
       "      <th>FTI measured</th>\n",
       "      <th>FTI</th>\n",
       "      <th>TBG measured</th>\n",
       "      <th>TBG</th>\n",
       "      <th>referral source</th>\n",
       "      <th>binaryClass</th>\n",
       "    </tr>\n",
       "  </thead>\n",
       "  <tbody>\n",
       "    <tr>\n",
       "      <th>0</th>\n",
       "      <td>41</td>\n",
       "      <td>F</td>\n",
       "      <td>f</td>\n",
       "      <td>f</td>\n",
       "      <td>f</td>\n",
       "      <td>f</td>\n",
       "      <td>f</td>\n",
       "      <td>f</td>\n",
       "      <td>f</td>\n",
       "      <td>f</td>\n",
       "      <td>...</td>\n",
       "      <td>t</td>\n",
       "      <td>125</td>\n",
       "      <td>t</td>\n",
       "      <td>1.14</td>\n",
       "      <td>t</td>\n",
       "      <td>109</td>\n",
       "      <td>f</td>\n",
       "      <td>?</td>\n",
       "      <td>SVHC</td>\n",
       "      <td>P</td>\n",
       "    </tr>\n",
       "    <tr>\n",
       "      <th>1</th>\n",
       "      <td>23</td>\n",
       "      <td>F</td>\n",
       "      <td>f</td>\n",
       "      <td>f</td>\n",
       "      <td>f</td>\n",
       "      <td>f</td>\n",
       "      <td>f</td>\n",
       "      <td>f</td>\n",
       "      <td>f</td>\n",
       "      <td>f</td>\n",
       "      <td>...</td>\n",
       "      <td>t</td>\n",
       "      <td>102</td>\n",
       "      <td>f</td>\n",
       "      <td>?</td>\n",
       "      <td>f</td>\n",
       "      <td>?</td>\n",
       "      <td>f</td>\n",
       "      <td>?</td>\n",
       "      <td>other</td>\n",
       "      <td>P</td>\n",
       "    </tr>\n",
       "    <tr>\n",
       "      <th>2</th>\n",
       "      <td>46</td>\n",
       "      <td>M</td>\n",
       "      <td>f</td>\n",
       "      <td>f</td>\n",
       "      <td>f</td>\n",
       "      <td>f</td>\n",
       "      <td>f</td>\n",
       "      <td>f</td>\n",
       "      <td>f</td>\n",
       "      <td>f</td>\n",
       "      <td>...</td>\n",
       "      <td>t</td>\n",
       "      <td>109</td>\n",
       "      <td>t</td>\n",
       "      <td>0.91</td>\n",
       "      <td>t</td>\n",
       "      <td>120</td>\n",
       "      <td>f</td>\n",
       "      <td>?</td>\n",
       "      <td>other</td>\n",
       "      <td>P</td>\n",
       "    </tr>\n",
       "    <tr>\n",
       "      <th>3</th>\n",
       "      <td>70</td>\n",
       "      <td>F</td>\n",
       "      <td>t</td>\n",
       "      <td>f</td>\n",
       "      <td>f</td>\n",
       "      <td>f</td>\n",
       "      <td>f</td>\n",
       "      <td>f</td>\n",
       "      <td>f</td>\n",
       "      <td>f</td>\n",
       "      <td>...</td>\n",
       "      <td>t</td>\n",
       "      <td>175</td>\n",
       "      <td>f</td>\n",
       "      <td>?</td>\n",
       "      <td>f</td>\n",
       "      <td>?</td>\n",
       "      <td>f</td>\n",
       "      <td>?</td>\n",
       "      <td>other</td>\n",
       "      <td>P</td>\n",
       "    </tr>\n",
       "    <tr>\n",
       "      <th>4</th>\n",
       "      <td>70</td>\n",
       "      <td>F</td>\n",
       "      <td>f</td>\n",
       "      <td>f</td>\n",
       "      <td>f</td>\n",
       "      <td>f</td>\n",
       "      <td>f</td>\n",
       "      <td>f</td>\n",
       "      <td>f</td>\n",
       "      <td>f</td>\n",
       "      <td>...</td>\n",
       "      <td>t</td>\n",
       "      <td>61</td>\n",
       "      <td>t</td>\n",
       "      <td>0.87</td>\n",
       "      <td>t</td>\n",
       "      <td>70</td>\n",
       "      <td>f</td>\n",
       "      <td>?</td>\n",
       "      <td>SVI</td>\n",
       "      <td>P</td>\n",
       "    </tr>\n",
       "  </tbody>\n",
       "</table>\n",
       "<p>5 rows × 30 columns</p>\n",
       "</div>"
      ],
      "text/plain": [
       "  age sex on thyroxine query on thyroxine on antithyroid medication sick  \\\n",
       "0  41   F            f                  f                         f    f   \n",
       "1  23   F            f                  f                         f    f   \n",
       "2  46   M            f                  f                         f    f   \n",
       "3  70   F            t                  f                         f    f   \n",
       "4  70   F            f                  f                         f    f   \n",
       "\n",
       "  pregnant thyroid surgery I131 treatment query hypothyroid  ... TT4 measured  \\\n",
       "0        f               f              f                 f  ...            t   \n",
       "1        f               f              f                 f  ...            t   \n",
       "2        f               f              f                 f  ...            t   \n",
       "3        f               f              f                 f  ...            t   \n",
       "4        f               f              f                 f  ...            t   \n",
       "\n",
       "   TT4 T4U measured   T4U FTI measured  FTI TBG measured TBG referral source  \\\n",
       "0  125            t  1.14            t  109            f   ?            SVHC   \n",
       "1  102            f     ?            f    ?            f   ?           other   \n",
       "2  109            t  0.91            t  120            f   ?           other   \n",
       "3  175            f     ?            f    ?            f   ?           other   \n",
       "4   61            t  0.87            t   70            f   ?             SVI   \n",
       "\n",
       "  binaryClass  \n",
       "0           P  \n",
       "1           P  \n",
       "2           P  \n",
       "3           P  \n",
       "4           P  \n",
       "\n",
       "[5 rows x 30 columns]"
      ]
     },
     "execution_count": 3,
     "metadata": {},
     "output_type": "execute_result"
    }
   ],
   "source": [
    "df.head()"
   ]
  },
  {
   "cell_type": "code",
   "execution_count": 4,
   "id": "b96e79a6",
   "metadata": {},
   "outputs": [
    {
     "data": {
      "text/plain": [
       "age                          0\n",
       "sex                          0\n",
       "on thyroxine                 0\n",
       "query on thyroxine           0\n",
       "on antithyroid medication    0\n",
       "sick                         0\n",
       "pregnant                     0\n",
       "thyroid surgery              0\n",
       "I131 treatment               0\n",
       "query hypothyroid            0\n",
       "query hyperthyroid           0\n",
       "lithium                      0\n",
       "goitre                       0\n",
       "tumor                        0\n",
       "hypopituitary                0\n",
       "psych                        0\n",
       "TSH measured                 0\n",
       "TSH                          0\n",
       "T3 measured                  0\n",
       "T3                           0\n",
       "TT4 measured                 0\n",
       "TT4                          0\n",
       "T4U measured                 0\n",
       "T4U                          0\n",
       "FTI measured                 0\n",
       "FTI                          0\n",
       "TBG measured                 0\n",
       "TBG                          0\n",
       "referral source              0\n",
       "binaryClass                  0\n",
       "dtype: int64"
      ]
     },
     "execution_count": 4,
     "metadata": {},
     "output_type": "execute_result"
    }
   ],
   "source": [
    "df.isnull().sum()"
   ]
  },
  {
   "cell_type": "code",
   "execution_count": 5,
   "id": "61779d0d",
   "metadata": {},
   "outputs": [],
   "source": [
    "total_duplicates = df.duplicated().sum()\n"
   ]
  },
  {
   "cell_type": "code",
   "execution_count": 6,
   "id": "21a3a64b",
   "metadata": {},
   "outputs": [
    {
     "data": {
      "image/png": "[encoded data removed]",
      "text/plain": [
       "<Figure size 1440x720 with 1 Axes>"
      ]
     },
     "metadata": {
      "needs_background": "light"
     },
     "output_type": "display_data"
    }
   ],
   "source": [
    "import pandas as pd\n",
    "import matplotlib.pyplot as plt\n",
    "\n",
    "# Assuming 'df' is your DataFrame\n",
    "# Convert 'age' column to numeric values\n",
    "df['age'] = pd.to_numeric(df['age'], errors='coerce')\n",
    "\n",
    "# Define custom age bins\n",
    "age_bins = [0, 10, 20, 30, 40, 50, 60, 70, 80]\n",
    "\n",
    "# Create a new column 'age_group' in your DataFrame based on the custom bins\n",
    "df['age_group'] = pd.cut(df['age'], bins=age_bins, right=False)\n",
    "\n",
    "plt.figure(figsize=(20, 10))\n",
    "df['age_group'].value_counts().sort_index().plot(kind='bar', color='skyblue', width=0.8)\n",
    "\n",
    "plt.title('Distribution of Age Groups')\n",
    "plt.xlabel('Age Groups')\n",
    "plt.ylabel('Count')\n",
    "plt.xticks(rotation=45)  # Rotate x-axis labels for better readability\n",
    "plt.show()"
   ]
  },
  {
   "cell_type": "code",
   "execution_count": 7,
   "id": "c3a58799",
   "metadata": {},
   "outputs": [
    {
     "data": {
      "image/png": "[encoded data removed]",
      "text/plain": [
       "<Figure size 576x432 with 1 Axes>"
      ]
     },
     "metadata": {
      "needs_background": "light"
     },
     "output_type": "display_data"
    }
   ],
   "source": [
    "# Calculate the percentage of each gender\n",
    "gender_percentage = df['sex'].value_counts(normalize=True) * 100\n",
    "\n",
    "plt.figure(figsize=(8, 6))\n",
    "gender_percentage.plot(kind='bar', color=['blue', 'pink'], width=0.8)\n",
    "\n",
    "plt.title('Percentage of Male and Female')\n",
    "plt.xlabel('Gender')\n",
    "plt.ylabel('Percentage')\n",
    "plt.xticks(rotation=0)  # Rotate x-axis labels if needed\n",
    "\n",
    "# Display percentage values on top of the bars\n",
    "for index, value in enumerate(gender_percentage):\n",
    "    plt.text(index, value + 0.5, f'{value:.2f}%', ha='center', va='bottom')\n",
    "\n",
    "plt.show()"
   ]
  },
  {
   "cell_type": "code",
   "execution_count": 8,
   "id": "aa0a87d2",
   "metadata": {},
   "outputs": [
    {
     "data": {
      "image/png": "[encoded data removed]",
      "text/plain": [
       "<Figure size 576x576 with 1 Axes>"
      ]
     },
     "metadata": {},
     "output_type": "display_data"
    }
   ],
   "source": [
    "# Calculate the percentage of each category in the 'thyroid_surgery' column\n",
    "thyroid_surgery_percentage = df['thyroid surgery'].value_counts(normalize=True) * 100\n",
    "\n",
    "plt.figure(figsize=(8, 8))\n",
    "plt.pie(thyroid_surgery_percentage, labels=thyroid_surgery_percentage.index, autopct='%1.1f%%', colors=['lightblue', 'lightgreen', 'lightcoral'])\n",
    "\n",
    "plt.title('Percentage of Thyroid Surgery Categories')\n",
    "plt.show()"
   ]
  },
  {
   "cell_type": "code",
   "execution_count": 9,
   "id": "ebea62da",
   "metadata": {},
   "outputs": [
    {
     "data": {
      "image/png": "[encoded data removed]",
      "text/plain": [
       "<Figure size 576x576 with 1 Axes>"
      ]
     },
     "metadata": {},
     "output_type": "display_data"
    }
   ],
   "source": [
    "\n",
    "thyroid_percentage = df['on thyroxine'].value_counts(normalize=True) * 100\n",
    "\n",
    "plt.figure(figsize=(8, 8))\n",
    "plt.pie(thyroid_percentage, labels=thyroid_percentage.index, autopct='%1.1f%%', colors=['lightblue', 'lightgreen'])\n",
    "\n",
    "plt.title('Percentage of on thyroxine categories')\n",
    "plt.show()"
   ]
  },
  {
   "cell_type": "code",
   "execution_count": 10,
   "id": "916c07d7",
   "metadata": {},
   "outputs": [
    {
     "data": {
      "image/png": "[encoded data removed]",
      "text/plain": [
       "<Figure size 576x576 with 1 Axes>"
      ]
     },
     "metadata": {},
     "output_type": "display_data"
    }
   ],
   "source": [
    "# Calculate the percentage of each category in the 'thyroid_surgery' column\n",
    "thyroid_surgery_percentage = df['tumor'].value_counts(normalize=True) * 100\n",
    "\n",
    "plt.figure(figsize=(8, 8))\n",
    "plt.pie(thyroid_surgery_percentage, labels=thyroid_surgery_percentage.index, autopct='%1.1f%%', colors=['lightblue', 'lightgreen', 'lightcoral'])\n",
    "\n",
    "plt.title('Percentage of  tumor Categories')\n",
    "plt.show()"
   ]
  },
  {
   "cell_type": "code",
   "execution_count": 11,
   "id": "fa21b2ca",
   "metadata": {},
   "outputs": [
    {
     "name": "stdout",
     "output_type": "stream",
     "text": [
      "Mean TSH: 5.09\n",
      "Median TSH: 1.40\n"
     ]
    }
   ],
   "source": [
    "\n",
    "df['TSH'] = pd.to_numeric(df['TSH'], errors='coerce')\n",
    "\n",
    "# Calculate the mean and median of 'TSH'\n",
    "tsh_mean = df['TSH'].mean()\n",
    "tsh_median = df['TSH'].median()\n",
    "\n",
    "# Print the mean and median values\n",
    "print(f'Mean TSH: {tsh_mean:.2f}')\n",
    "print(f'Median TSH: {tsh_median:.2f}')\n"
   ]
  },
  {
   "cell_type": "code",
   "execution_count": 12,
   "id": "04b9c74c",
   "metadata": {},
   "outputs": [
    {
     "name": "stdout",
     "output_type": "stream",
     "text": [
      "Mean TSH for Males: 3.79\n",
      "Median TSH for Males: 1.30\n",
      "Mean TSH for Females: 5.58\n",
      "Median TSH for Females: 1.40\n"
     ]
    }
   ],
   "source": [
    "\n",
    "df['TSH'] = pd.to_numeric(df['TSH'], errors='coerce')\n",
    "\n",
    "# Group the DataFrame by 'sex'\n",
    "grouped_data = df.groupby('sex')['TSH']\n",
    "\n",
    "# Calculate mean and median for each group\n",
    "mean_by_sex = grouped_data.mean()\n",
    "median_by_sex = grouped_data.median()  # Use median() instead of Variance()\n",
    "\n",
    "# Print the results\n",
    "print(f'Mean TSH for Males: {mean_by_sex[\"M\"]:.2f}')\n",
    "print(f'Median TSH for Males: {median_by_sex[\"M\"]:.2f}')\n",
    "\n",
    "print(f'Mean TSH for Females: {mean_by_sex[\"F\"]:.2f}')\n",
    "print(f'Median TSH for Females: {median_by_sex[\"F\"]:.2f}')"
   ]
  },
  {
   "cell_type": "markdown",
   "id": "0ff94140",
   "metadata": {},
   "source": [
    "most of females hyper & most of males hypo "
   ]
  },
  {
   "cell_type": "code",
   "execution_count": 14,
   "id": "cf261555",
   "metadata": {},
   "outputs": [
    {
     "data": {
      "image/png": "[encoded data removed]",
      "text/plain": [
       "<Figure size 720x432 with 1 Axes>"
      ]
     },
     "metadata": {
      "needs_background": "light"
     },
     "output_type": "display_data"
    }
   ],
   "source": [
    "# Convert 'TSH' column to numeric\n",
    "df['TSH'] = pd.to_numeric(df['TSH'], errors='coerce')\n",
    "\n",
    "# Group the DataFrame by 'sex'\n",
    "grouped_data = df.groupby('sex')['TSH']\n",
    "\n",
    "# Calculate standard deviation for each group\n",
    "std_by_sex = grouped_data.std()\n",
    "\n",
    "# Create a grouped bar plot\n",
    "plt.figure(figsize=(10, 6))\n",
    "sns.barplot(x=std_by_sex.index, y=std_by_sex, palette='pastel')\n",
    "\n",
    "# Set plot labels and title\n",
    "plt.xlabel('Sex')\n",
    "plt.ylabel('Standard Deviation of TSH')\n",
    "plt.title('Standard Deviation of TSH for Males and Females')\n",
    "\n",
    "# Show the plot\n",
    "plt.show()"
   ]
  },
  {
   "cell_type": "code",
   "execution_count": 15,
   "id": "d743d248",
   "metadata": {},
   "outputs": [
    {
     "data": {
      "image/png": "[encoded data removed]",
      "text/plain": [
       "<Figure size 720x432 with 1 Axes>"
      ]
     },
     "metadata": {
      "needs_background": "light"
     },
     "output_type": "display_data"
    }
   ],
   "source": [
    "import seaborn as sns\n",
    "import matplotlib.pyplot as plt\n",
    "\n",
    "# Assuming 'TSH' and 'sex' are the correct column names\n",
    "# Convert 'TSH' column to numeric\n",
    "df['TSH'] = pd.to_numeric(df['TSH'], errors='coerce')\n",
    "\n",
    "# Create kernel density plots for males and females\n",
    "plt.figure(figsize=(10, 6))\n",
    "sns.kdeplot(data=df, x='TSH', hue='sex', fill=True, palette='pastel', common_norm=False)\n",
    "\n",
    "# Set plot labels and title\n",
    "plt.xlabel('TSH Levels')\n",
    "plt.ylabel('Density')\n",
    "plt.title('Kernel Density Plot of TSH Levels for Males and Females')\n",
    "\n",
    "# Show the plot\n",
    "plt.show()\n"
   ]
  },
  {
   "cell_type": "code",
   "execution_count": 16,
   "id": "890c8047",
   "metadata": {},
   "outputs": [
    {
     "data": {
      "image/png": "[encoded data removed]",
      "text/plain": [
       "<Figure size 720x432 with 1 Axes>"
      ]
     },
     "metadata": {
      "needs_background": "light"
     },
     "output_type": "display_data"
    }
   ],
   "source": [
    "# Convert 'TSH' column to numeric\n",
    "df['TSH'] = pd.to_numeric(df['TSH'], errors='coerce')\n",
    "\n",
    "# Group the DataFrame by 'sex'\n",
    "grouped_data = df.groupby('sex')['TSH']\n",
    "\n",
    "# Calculate kurtosis for each group\n",
    "kurtosis_by_sex = grouped_data.apply(pd.DataFrame.kurtosis)\n",
    "\n",
    "# Create kernel density plots for males and females\n",
    "plt.figure(figsize=(10, 6))\n",
    "sns.kdeplot(data=df, x='TSH', hue='sex', fill=True, palette='pastel', common_norm=False)\n",
    "\n",
    "# Set plot labels and title\n",
    "plt.xlabel('TSH Levels')\n",
    "plt.ylabel('Density')\n",
    "plt.title('Kernel Density Plot of TSH Levels for Males and Females')\n",
    "\n",
    "# Show the plot\n",
    "plt.show()"
   ]
  },
  {
   "cell_type": "code",
   "execution_count": 17,
   "id": "2154c196",
   "metadata": {},
   "outputs": [
    {
     "name": "stdout",
     "output_type": "stream",
     "text": [
      "Kurtosis for Males: 115.42\n",
      "Kurtosis for Females: 210.59\n"
     ]
    }
   ],
   "source": [
    "df['TSH'] = pd.to_numeric(df['TSH'], errors='coerce')\n",
    "\n",
    "# Group the DataFrame by 'sex'\n",
    "grouped_data = df.groupby('sex')['TSH']\n",
    "\n",
    "# Calculate kurtosis for each group\n",
    "kurtosis_by_sex = grouped_data.apply(pd.DataFrame.kurtosis)\n",
    "\n",
    "# Print the kurtosis values\n",
    "print(f'Kurtosis for Males: {kurtosis_by_sex[\"M\"]:.2f}')\n",
    "print(f'Kurtosis for Females: {kurtosis_by_sex[\"F\"]:.2f}')"
   ]
  },
  {
   "cell_type": "markdown",
   "id": "c5895195",
   "metadata": {},
   "source": [
    "more extreme values in the dataset than would be expected under a normal distribution"
   ]
  },
  {
   "cell_type": "code",
   "execution_count": 19,
   "id": "b36b9b35",
   "metadata": {},
   "outputs": [
    {
     "data": {
      "image/png": "[encoded data removed]",
      "text/plain": [
       "<Figure size 720x432 with 1 Axes>"
      ]
     },
     "metadata": {
      "needs_background": "light"
     },
     "output_type": "display_data"
    }
   ],
   "source": [
    "import seaborn as sns\n",
    "\n",
    "df['TSH'] = pd.to_numeric(df['TSH'], errors='coerce')\n",
    "\n",
    "# Filter the DataFrame for females\n",
    "female_data = df[df['sex'] == 'F']\n",
    "\n",
    "# Create a boxplot\n",
    "plt.figure(figsize=(10, 6))\n",
    "sns.boxplot(x='sex', y='TSH', data=female_data, palette='pastel')\n",
    "\n",
    "# Set plot labels and title\n",
    "plt.xlabel('Sex')\n",
    "plt.ylabel('TSH Levels')\n",
    "plt.title('Boxplot of TSH Levels for Females')\n",
    "\n",
    "# Show the plot\n",
    "plt.show()\n"
   ]
  },
  {
   "cell_type": "code",
   "execution_count": 20,
   "id": "d95c373f",
   "metadata": {},
   "outputs": [
    {
     "name": "stderr",
     "output_type": "stream",
     "text": [
      "C:\\Users\\DELL\\AppData\\Local\\Temp/ipykernel_13164/4214915551.py:11: SettingWithCopyWarning: \n",
      "A value is trying to be set on a copy of a slice from a DataFrame.\n",
      "Try using .loc[row_indexer,col_indexer] = value instead\n",
      "\n",
      "See the caveats in the documentation: https://pandas.pydata.org/pandas-docs/stable/user_guide/indexing.html#returning-a-view-versus-a-copy\n",
      "  female_data['age_group'] = pd.cut(female_data['age'], bins=range(0, 101, 10), right=False)\n"
     ]
    },
    {
     "data": {
      "image/png": "[encoded data removed]",
      "text/plain": [
       "<Figure size 864x576 with 1 Axes>"
      ]
     },
     "metadata": {
      "needs_background": "light"
     },
     "output_type": "display_data"
    }
   ],
   "source": [
    "import matplotlib.pyplot as plt\n",
    "\n",
    "# Assuming 'TSH', 'sex', and 'age' are the correct column names\n",
    "# Convert 'TSH' column to numeric\n",
    "df['TSH'] = pd.to_numeric(df['TSH'], errors='coerce')\n",
    "\n",
    "# Filter the DataFrame for females\n",
    "female_data = df[df['sex'] == 'F']\n",
    "\n",
    "# Create a new column for age groups (grouped in 10-year intervals)\n",
    "female_data['age_group'] = pd.cut(female_data['age'], bins=range(0, 101, 10), right=False)\n",
    "\n",
    "# Create a boxplot with 'sex' on x-axis and 'age_group' as hue\n",
    "plt.figure(figsize=(12, 8))\n",
    "sns.boxplot(x='sex', y='TSH', hue='age_group', data=female_data, palette='pastel')\n",
    "\n",
    "# Set plot labels and title\n",
    "plt.xlabel('Sex')\n",
    "plt.ylabel('TSH Levels')\n",
    "plt.title('Boxplot of TSH Levels for Females Grouped by Age (10-Year Intervals)')\n",
    "\n",
    "# Show the legend\n",
    "plt.legend(title='Age Group', loc='upper right')\n",
    "\n",
    "# Show the plot\n",
    "plt.show()"
   ]
  },
  {
   "cell_type": "code",
   "execution_count": 21,
   "id": "c8285aa9",
   "metadata": {},
   "outputs": [
    {
     "name": "stderr",
     "output_type": "stream",
     "text": [
      "C:\\Users\\DELL\\AppData\\Local\\Temp/ipykernel_13164/1082995349.py:8: SettingWithCopyWarning: \n",
      "A value is trying to be set on a copy of a slice from a DataFrame.\n",
      "Try using .loc[row_indexer,col_indexer] = value instead\n",
      "\n",
      "See the caveats in the documentation: https://pandas.pydata.org/pandas-docs/stable/user_guide/indexing.html#returning-a-view-versus-a-copy\n",
      "  female_data['age_group'] = pd.cut(female_data['age'], bins=range(0, 101, 10), right=False)\n"
     ]
    },
    {
     "data": {
      "image/png": "[encoded data removed]",
      "text/plain": [
       "<Figure size 864x576 with 1 Axes>"
      ]
     },
     "metadata": {
      "needs_background": "light"
     },
     "output_type": "display_data"
    }
   ],
   "source": [
    "# Convert 'TSH' column to numeric\n",
    "df['TSH'] = pd.to_numeric(df['TSH'], errors='coerce')\n",
    "\n",
    "# Filter the DataFrame for females\n",
    "female_data = df[df['sex'] == 'F']\n",
    "\n",
    "# Create a new column for age groups (grouped in 10-year intervals)\n",
    "female_data['age_group'] = pd.cut(female_data['age'], bins=range(0, 101, 10), right=False)\n",
    "\n",
    "# Create a boxplot with 'sex' on x-axis and 'age_group' as hue, excluding outliers\n",
    "plt.figure(figsize=(12, 8))\n",
    "sns.boxplot(x='sex', y='TSH', hue='age_group', data=female_data, palette='pastel', showfliers=False)\n",
    "\n",
    "# Set plot labels and title\n",
    "plt.xlabel('Sex')\n",
    "plt.ylabel('TSH Levels')\n",
    "plt.title('Boxplot of TSH Levels for Females Grouped by Age (10-Year Intervals) without Outliers')\n",
    "\n",
    "# Show the legend\n",
    "plt.legend(title='Age Group', loc='upper right')\n",
    "\n",
    "# Show the plot\n",
    "plt.show()"
   ]
  },
  {
   "cell_type": "code",
   "execution_count": 22,
   "id": "1a9c54e5",
   "metadata": {},
   "outputs": [],
   "source": [
    "# Assuming 'TSH' is the column with outliers\n",
    "Q1 = female_data['TSH'].quantile(0.25)\n",
    "Q3 = female_data['TSH'].quantile(0.75)\n",
    "IQR = Q3 - Q1\n",
    "\n",
    "# Filter out values outside the IQR range\n",
    "female_data_no_outliers = female_data[(female_data['TSH'] >= Q1 - 1.5 * IQR) & (female_data['TSH'] <= Q3 + 1.5 * IQR)]"
   ]
  },
  {
   "cell_type": "code",
   "execution_count": 23,
   "id": "4dde2c6e",
   "metadata": {},
   "outputs": [
    {
     "data": {
      "image/png": "[encoded data removed]",
      "text/plain": [
       "<Figure size 720x432 with 1 Axes>"
      ]
     },
     "metadata": {
      "needs_background": "light"
     },
     "output_type": "display_data"
    }
   ],
   "source": [
    "import seaborn as sns\n",
    "\n",
    "df['TSH'] = pd.to_numeric(df['TSH'], errors='coerce')\n",
    "\n",
    "# Filter the DataFrame for females\n",
    "female_data = df[df['sex'] == 'M']\n",
    "\n",
    "# Create a boxplot\n",
    "plt.figure(figsize=(10, 6))\n",
    "sns.boxplot(x='sex', y='TSH', data=female_data, palette='pastel')\n",
    "\n",
    "# Set plot labels and title\n",
    "plt.xlabel('Sex')\n",
    "plt.ylabel('TSH Levels')\n",
    "plt.title('Boxplot of TSH Levels for Females')\n",
    "\n",
    "# Show the plot\n",
    "plt.show()"
   ]
  },
  {
   "cell_type": "code",
   "execution_count": 24,
   "id": "0d95486b",
   "metadata": {},
   "outputs": [
    {
     "name": "stderr",
     "output_type": "stream",
     "text": [
      "C:\\Users\\DELL\\AppData\\Local\\Temp/ipykernel_13164/3618897352.py:8: SettingWithCopyWarning: \n",
      "A value is trying to be set on a copy of a slice from a DataFrame.\n",
      "Try using .loc[row_indexer,col_indexer] = value instead\n",
      "\n",
      "See the caveats in the documentation: https://pandas.pydata.org/pandas-docs/stable/user_guide/indexing.html#returning-a-view-versus-a-copy\n",
      "  male_data['age_group'] = pd.cut(male_data['age'], bins=range(0, 101, 10), right=False)\n"
     ]
    },
    {
     "data": {
      "image/png": "[encoded data removed]",
      "text/plain": [
       "<Figure size 864x576 with 1 Axes>"
      ]
     },
     "metadata": {
      "needs_background": "light"
     },
     "output_type": "display_data"
    }
   ],
   "source": [
    "# Convert 'TSH' column to numeric\n",
    "df['TSH'] = pd.to_numeric(df['TSH'], errors='coerce')\n",
    "\n",
    "# Filter the DataFrame for females\n",
    "male_data = df[df['sex'] == 'M']\n",
    "\n",
    "# Create a new column for age groups (grouped in 10-year intervals)\n",
    "male_data['age_group'] = pd.cut(male_data['age'], bins=range(0, 101, 10), right=False)\n",
    "\n",
    "# Create a boxplot with 'sex' on x-axis and 'age_group' as hue\n",
    "plt.figure(figsize=(12, 8))\n",
    "sns.boxplot(x='sex', y='TSH', hue='age_group', data=female_data, palette='pastel')\n",
    "\n",
    "# Set plot labels and title\n",
    "plt.xlabel('Sex')\n",
    "plt.ylabel('TSH Levels')\n",
    "plt.title('Boxplot of TSH Levels for Males  Grouped by Age (10-Year Intervals)')\n",
    "\n",
    "# Show the legend\n",
    "plt.legend(title='Age Group', loc='upper right')\n",
    "\n",
    "# Show the plot\n",
    "plt.show()"
   ]
  },
  {
   "cell_type": "code",
   "execution_count": 25,
   "id": "5ee16dba",
   "metadata": {},
   "outputs": [],
   "source": [
    "# Assuming 'TSH' is the column with outliers in the male_data DataFrame\n",
    "Q1_male = male_data['TSH'].quantile(0.25)\n",
    "Q3_male = male_data['TSH'].quantile(0.75)\n",
    "IQR_male = Q3_male - Q1_male\n",
    "\n",
    "# Filter out values outside the IQR range for males\n",
    "male_data_no_outliers = male_data[(male_data['TSH'] >= Q1_male - 1.5 * IQR_male) & (male_data['TSH'] <= Q3_male + 1.5 * IQR_male)]"
   ]
  },
  {
   "cell_type": "code",
   "execution_count": 26,
   "id": "4483423a",
   "metadata": {},
   "outputs": [
    {
     "name": "stdout",
     "output_type": "stream",
     "text": [
      "Covariance Matrix:\n",
      "            TSH\n",
      "TSH  601.302511\n"
     ]
    },
    {
     "data": {
      "image/png": "[encoded data removed]",
      "text/plain": [
       "<Figure size 576x432 with 2 Axes>"
      ]
     },
     "metadata": {
      "needs_background": "light"
     },
     "output_type": "display_data"
    }
   ],
   "source": [
    "import seaborn as sns\n",
    "import matplotlib.pyplot as plt\n",
    "\n",
    "# Assuming 'TSH' and 'T3' are the correct column names\n",
    "# Select the relevant columns for visualization\n",
    "selected_columns = ['TSH', 'T3']\n",
    "\n",
    "# Filter the DataFrame to include only the selected columns\n",
    "selected_data = df[selected_columns]\n",
    "\n",
    "# Calculate the covariance matrix\n",
    "covariance_matrix = selected_data.cov()\n",
    "\n",
    "# Display the covariance matrix\n",
    "print(\"Covariance Matrix:\")\n",
    "print(covariance_matrix)\n",
    "\n",
    "# Create a heatmap for the covariance matrix\n",
    "plt.figure(figsize=(8, 6))\n",
    "sns.heatmap(covariance_matrix, annot=True, cmap='coolwarm', fmt=\".2f\", linewidths=.5)\n",
    "\n",
    "# Set plot title\n",
    "plt.title('Covariance Matrix between TSH and T3')\n",
    "\n",
    "# Show the plot\n",
    "plt.show()\n"
   ]
  },
  {
   "cell_type": "code",
   "execution_count": 27,
   "id": "3369c2f3",
   "metadata": {},
   "outputs": [
    {
     "name": "stdout",
     "output_type": "stream",
     "text": [
      "Correlation Coefficient between TSH and T3: -0.1618\n"
     ]
    },
    {
     "name": "stderr",
     "output_type": "stream",
     "text": [
      "C:\\Users\\DELL\\AppData\\Local\\Temp/ipykernel_13164/1093736830.py:7: SettingWithCopyWarning: \n",
      "A value is trying to be set on a copy of a slice from a DataFrame.\n",
      "Try using .loc[row_indexer,col_indexer] = value instead\n",
      "\n",
      "See the caveats in the documentation: https://pandas.pydata.org/pandas-docs/stable/user_guide/indexing.html#returning-a-view-versus-a-copy\n",
      "  selected_data['TSH'] = pd.to_numeric(selected_data['TSH'], errors='coerce')\n",
      "C:\\Users\\DELL\\AppData\\Local\\Temp/ipykernel_13164/1093736830.py:8: SettingWithCopyWarning: \n",
      "A value is trying to be set on a copy of a slice from a DataFrame.\n",
      "Try using .loc[row_indexer,col_indexer] = value instead\n",
      "\n",
      "See the caveats in the documentation: https://pandas.pydata.org/pandas-docs/stable/user_guide/indexing.html#returning-a-view-versus-a-copy\n",
      "  selected_data['T3'] = pd.to_numeric(selected_data['T3'], errors='coerce')\n"
     ]
    }
   ],
   "source": [
    "selected_columns = ['TSH', 'T3']\n",
    "\n",
    "# Filter the DataFrame to include only the selected columns\n",
    "selected_data = df[selected_columns]\n",
    "\n",
    "# Convert columns to numeric types\n",
    "selected_data['TSH'] = pd.to_numeric(selected_data['TSH'], errors='coerce')\n",
    "selected_data['T3'] = pd.to_numeric(selected_data['T3'], errors='coerce')\n",
    "\n",
    "# Drop rows with missing values\n",
    "selected_data = selected_data.dropna()\n",
    "\n",
    "# Calculate the correlation coefficient\n",
    "correlation_coefficient = selected_data['TSH'].corr(selected_data['T3'])\n",
    "\n",
    "# Display the correlation coefficient\n",
    "print(f\"Correlation Coefficient between TSH and T3: {correlation_coefficient:.4f}\")\n"
   ]
  },
  {
   "cell_type": "code",
   "execution_count": 28,
   "id": "42439df0",
   "metadata": {},
   "outputs": [
    {
     "name": "stdout",
     "output_type": "stream",
     "text": [
      "Correlation Coefficient between TSH and TT4: -0.2674\n"
     ]
    },
    {
     "name": "stderr",
     "output_type": "stream",
     "text": [
      "C:\\Users\\DELL\\AppData\\Local\\Temp/ipykernel_13164/1871058780.py:7: SettingWithCopyWarning: \n",
      "A value is trying to be set on a copy of a slice from a DataFrame.\n",
      "Try using .loc[row_indexer,col_indexer] = value instead\n",
      "\n",
      "See the caveats in the documentation: https://pandas.pydata.org/pandas-docs/stable/user_guide/indexing.html#returning-a-view-versus-a-copy\n",
      "  selected_data['TSH'] = pd.to_numeric(selected_data['TSH'], errors='coerce')\n",
      "C:\\Users\\DELL\\AppData\\Local\\Temp/ipykernel_13164/1871058780.py:8: SettingWithCopyWarning: \n",
      "A value is trying to be set on a copy of a slice from a DataFrame.\n",
      "Try using .loc[row_indexer,col_indexer] = value instead\n",
      "\n",
      "See the caveats in the documentation: https://pandas.pydata.org/pandas-docs/stable/user_guide/indexing.html#returning-a-view-versus-a-copy\n",
      "  selected_data['TT4'] = pd.to_numeric(selected_data['TT4'], errors='coerce')\n"
     ]
    }
   ],
   "source": [
    "selected_columns = ['TSH', 'TT4']\n",
    "\n",
    "# Filter the DataFrame to include only the selected columns\n",
    "selected_data = df[selected_columns]\n",
    "\n",
    "# Convert columns to numeric types\n",
    "selected_data['TSH'] = pd.to_numeric(selected_data['TSH'], errors='coerce')\n",
    "selected_data['TT4'] = pd.to_numeric(selected_data['TT4'], errors='coerce')\n",
    "\n",
    "# Drop rows with missing values\n",
    "selected_data = selected_data.dropna()\n",
    "\n",
    "# Calculate the correlation coefficient\n",
    "correlation_coefficient_tt4 = selected_data['TSH'].corr(selected_data['TT4'])\n",
    "\n",
    "# Display the correlation coefficient\n",
    "print(f\"Correlation Coefficient between TSH and TT4: {correlation_coefficient_tt4:.4f}\")\n"
   ]
  },
  {
   "cell_type": "code",
   "execution_count": 29,
   "id": "b60e1d33",
   "metadata": {},
   "outputs": [
    {
     "name": "stdout",
     "output_type": "stream",
     "text": [
      "TSH    0\n",
      "TT4    0\n",
      "dtype: int64\n"
     ]
    }
   ],
   "source": [
    "print(selected_data.isnull().sum())\n"
   ]
  },
  {
   "cell_type": "code",
   "execution_count": 30,
   "id": "ad0a00bb",
   "metadata": {},
   "outputs": [
    {
     "data": {
      "image/png": "[encoded data removed]",
      "text/plain": [
       "<Figure size 1008x864 with 2 Axes>"
      ]
     },
     "metadata": {
      "needs_background": "light"
     },
     "output_type": "display_data"
    }
   ],
   "source": [
    "import seaborn as sns\n",
    "import matplotlib.pyplot as plt\n",
    "from sklearn.preprocessing import StandardScaler\n",
    "\n",
    "# Select the relevant columns\n",
    "selected_columns = ['on thyroxine', 'TSH', 'T3', 'TT4']\n",
    "\n",
    "# Filter the DataFrame to include only the selected columns and the first 20 rows\n",
    "selected_data = df[selected_columns].head(20)\n",
    "\n",
    "# Replace or remove non-numeric values in numerical columns\n",
    "selected_data[['TSH', 'T3', 'TT4']] = selected_data[['TSH', 'T3', 'TT4']].replace({'?': np.nan}).astype(float)\n",
    "selected_data = selected_data.dropna()\n",
    "\n",
    "# Separate numerical and non-numerical columns\n",
    "numerical_columns = selected_data[['TSH', 'T3', 'TT4']]\n",
    "non_numerical_columns = selected_data[['on thyroxine']]\n",
    "\n",
    "# Standardize numerical columns using Z-score scaling\n",
    "scaler = StandardScaler()\n",
    "numerical_columns_scaled = scaler.fit_transform(numerical_columns)\n",
    "\n",
    "# Combine the standardized numerical columns with non-numerical columns\n",
    "selected_data_scaled = pd.DataFrame(data=numerical_columns_scaled, columns=numerical_columns.columns)\n",
    "selected_data_scaled['on thyroxine'] = non_numerical_columns\n",
    "\n",
    "# Create a heatmap\n",
    "plt.figure(figsize=(14, 12))\n",
    "\n",
    "# Use the 'on thyroxine' column as the hue to differentiate categories\n",
    "heatmap_data = selected_data_scaled.pivot_table(index='TSH', columns=['on thyroxine'], aggfunc='mean', fill_value=0)\n",
    "sns.heatmap(heatmap_data, annot=False, cmap='coolwarm', linewidths=.5, cbar_kws={\"orientation\": \"horizontal\"})\n",
    "\n",
    "# Set plot title\n",
    "plt.title('Heatmap: TSH, T3, TT4 by on thyroxine (Z-score scaled) - First 20 Rows')\n",
    "\n",
    "# Show the plot   \n",
    "plt.show()\n"
   ]
  },
  {
   "cell_type": "code",
   "execution_count": 31,
   "id": "3cccdb78",
   "metadata": {},
   "outputs": [
    {
     "name": "stdout",
     "output_type": "stream",
     "text": [
      "Fail to reject the null hypothesis. There is no significant difference in TSH levels between on and off thyroxine groups.\n"
     ]
    }
   ],
   "source": [
    "#Anova \n",
    "from scipy.stats import ttest_ind\n",
    "\n",
    "# Separate data into on and off thyroxine groups\n",
    "on_thyroxine_data = df[df['on thyroxine'] == 'T']['TSH']\n",
    "off_thyroxine_data = df[df['on thyroxine'] == 'F']['TSH']\n",
    "\n",
    "# Perform independent t-test\n",
    "t_statistic, p_value = ttest_ind(on_thyroxine_data, off_thyroxine_data, equal_var=False)\n",
    "\n",
    "# Set significance level\n",
    "alpha = 0.05\n",
    "\n",
    "# Check if the p-value is less than alpha to reject the null hypothesis\n",
    "if p_value < alpha:\n",
    "    print(f'Reject the null hypothesis. There is a significant difference in TSH levels between on and off thyroxine groups.')\n",
    "else:\n",
    "    print('Fail to reject the null hypothesis. There is no significant difference in TSH levels between on and off thyroxine groups.')\n"
   ]
  },
  {
   "cell_type": "code",
   "execution_count": 32,
   "id": "b1c020a2",
   "metadata": {},
   "outputs": [
    {
     "name": "stdout",
     "output_type": "stream",
     "text": [
      "T-Test: Fail to reject the null hypothesis. There is no significant difference in TSH levels between on and off thyroxine groups.\n",
      "Z-Test: Not performed due to small sample sizes.\n"
     ]
    }
   ],
   "source": [
    "from scipy.stats import ttest_ind, zscore\n",
    "\n",
    "# Separate data into on and off thyroxine groups\n",
    "on_thyroxine_data = df[df['on thyroxine'] == 'T']['TSH']\n",
    "off_thyroxine_data = df[df['on thyroxine'] == 'F']['TSH']\n",
    "\n",
    "# Perform independent t-test\n",
    "t_statistic, p_value_t = ttest_ind(on_thyroxine_data, off_thyroxine_data, equal_var=False)\n",
    "\n",
    "# Check if the sample sizes are large enough for a z-test\n",
    "if len(on_thyroxine_data) > 30 and len(off_thyroxine_data) > 30:\n",
    "    # Perform z-test\n",
    "    z_stat, p_value_z = zscore(on_thyroxine_data), zscore(off_thyroxine_data)\n",
    "else:\n",
    "    p_value_z = None  # Set to None if the z-test is not performed\n",
    "\n",
    "# Set significance level\n",
    "alpha = 0.05\n",
    "\n",
    "# Check t-test results\n",
    "if p_value_t < alpha:\n",
    "    print(f'T-Test: Reject the null hypothesis. There is a significant difference in TSH levels between on and off thyroxine groups.')\n",
    "else:\n",
    "    print('T-Test: Fail to reject the null hypothesis. There is no significant difference in TSH levels between on and off thyroxine groups.')\n",
    "\n",
    "# Check z-test results\n",
    "if p_value_z is not None and p_value_z < alpha:\n",
    "    print(f'Z-Test: Reject the null hypothesis. There is a significant difference in TSH levels between on and off thyroxine groups.')\n",
    "elif p_value_z is not None:\n",
    "    print('Z-Test: Fail to reject the null hypothesis. There is no significant difference in TSH levels between on and off thyroxine groups.')\n",
    "else:\n",
    "    print('Z-Test: Not performed due to small sample sizes.')\n",
    "\n",
    "\n",
    "\n"
   ]
  },
  {
   "cell_type": "code",
   "execution_count": 33,
   "id": "7ba68d2c",
   "metadata": {},
   "outputs": [
    {
     "name": "stdout",
     "output_type": "stream",
     "text": [
      "Chi-Square Test: Reject the null hypothesis. There is a significant relationship between \"on thyroxine\" and \"TSH\" levels.\n"
     ]
    }
   ],
   "source": [
    "from scipy.stats import chi2_contingency\n",
    "# You may need to adjust the bin edges based on your data distribution\n",
    "bin_edges = [0, 2, 5, 10, 20, 50, float('inf')]\n",
    "bin_labels = ['0-2', '2-5', '5-10', '10-20', '20-50', '50+']\n",
    "\n",
    "# Create a new column 'TSH_bins' based on binning\n",
    "df['TSH_bins'] = pd.cut(df['TSH'], bins=bin_edges, labels=bin_labels)\n",
    "\n",
    "# Create a contingency table\n",
    "contingency_table = pd.crosstab(df['on thyroxine'], df['TSH_bins'])\n",
    "\n",
    "# Perform chi-square test\n",
    "chi2_stat, p_value, _, _ = chi2_contingency(contingency_table)\n",
    "\n",
    "# Set significance level\n",
    "alpha = 0.05\n",
    "\n",
    "# Check chi-square test results\n",
    "if p_value < alpha:\n",
    "    print(f'Chi-Square Test: Reject the null hypothesis. There is a significant relationship between \"on thyroxine\" and \"TSH\" levels.')\n",
    "else:\n",
    "    print('Chi-Square Test: Fail to reject the null hypothesis. There is no significant relationship between \"on thyroxine\" and \"TSH\" levels.')\n"
   ]
  },
  {
   "cell_type": "code",
   "execution_count": 34,
   "id": "01930e38",
   "metadata": {},
   "outputs": [
    {
     "name": "stdout",
     "output_type": "stream",
     "text": [
      "Accuracy: 86.75%\n"
     ]
    }
   ],
   "source": [
    "#LDA \n",
    "from sklearn.model_selection import train_test_split\n",
    "from sklearn.discriminant_analysis import LinearDiscriminantAnalysis\n",
    "from sklearn.metrics import accuracy_score\n",
    "from sklearn.preprocessing import LabelEncoder\n",
    "from sklearn.impute import SimpleImputer\n",
    "\n",
    "# Define features and target variable\n",
    "features = ['TSH', 'T3', 'TT4']\n",
    "target = 'on thyroxine'\n",
    "\n",
    "# Encode boolean values into numerical values (0 and 1)\n",
    "label_encoder = LabelEncoder()\n",
    "df[target] = label_encoder.fit_transform(df[target])\n",
    "\n",
    "# Handle missing values by replacing '?' with the mean of each column\n",
    "df.replace('?', float('nan'), inplace=True)\n",
    "imputer = SimpleImputer(strategy='mean')\n",
    "df[features] = imputer.fit_transform(df[features])\n",
    "\n",
    "# Split the data into training and test sets (80% train, 20% test)\n",
    "train_data, test_data, train_target, test_target = train_test_split(\n",
    "    df[features], df[target], test_size=0.2, random_state=42\n",
    ")\n",
    "\n",
    "# Initialize the LDA model\n",
    "lda = LinearDiscriminantAnalysis()\n",
    "\n",
    "# Fit the model on the training data\n",
    "lda.fit(train_data, train_target)\n",
    "\n",
    "# Make predictions on the test data\n",
    "predictions = lda.predict(test_data)\n",
    "\n",
    "# Evaluate the accuracy of the model\n",
    "accuracy = accuracy_score(test_target, predictions)\n",
    "print(f'Accuracy: {accuracy * 100:.2f}%')\n",
    "\n"
   ]
  },
  {
   "cell_type": "code",
   "execution_count": 35,
   "id": "3743864f",
   "metadata": {},
   "outputs": [
    {
     "name": "stdout",
     "output_type": "stream",
     "text": [
      "Fold 1: Accuracy = 87.57%\n",
      "Fold 2: Accuracy = 87.83%\n",
      "Fold 3: Accuracy = 88.33%\n",
      "Fold 4: Accuracy = 86.74%\n",
      "Fold 5: Accuracy = 87.53%\n",
      "Fold 6: Accuracy = 86.74%\n",
      "Fold 7: Accuracy = 87.80%\n",
      "Fold 8: Accuracy = 85.94%\n",
      "Fold 9: Accuracy = 87.53%\n",
      "Fold 10: Accuracy = 87.00%\n",
      "Average Accuracy: 87.30%\n"
     ]
    }
   ],
   "source": [
    "from sklearn.model_selection import cross_val_score, KFold\n",
    "from sklearn.model_selection import cross_val_score\n",
    "from sklearn.metrics import accuracy_score, make_scorer\n",
    "# Define features and target variable\n",
    "features = ['TSH', 'T3', 'TT4']\n",
    "target = 'on thyroxine'\n",
    "\n",
    "# Encode boolean values into numerical values (0 and 1)\n",
    "label_encoder = LabelEncoder()\n",
    "df[target] = label_encoder.fit_transform(df[target])\n",
    "\n",
    "# Handle missing values by replacing '?' with the mean of each column\n",
    "df.replace('?', float('nan'), inplace=True)\n",
    "imputer = SimpleImputer(strategy='mean')\n",
    "df[features] = imputer.fit_transform(df[features])\n",
    "\n",
    "# Initialize the LDA model\n",
    "lda = LinearDiscriminantAnalysis()\n",
    "\n",
    "# Set up cross-validation with 10 folds\n",
    "cross_val_accuracy = cross_val_score(lda, df[features], df[target], cv=10, scoring=make_scorer(accuracy_score))\n",
    "\n",
    "# Print the accuracy for each fold\n",
    "for fold, accuracy in enumerate(cross_val_accuracy, start=1):\n",
    "    print(f'Fold {fold}: Accuracy = {accuracy * 100:.2f}%')\n",
    "\n",
    "# Print the average accuracy across all folds\n",
    "print(f'Average Accuracy: {cross_val_accuracy.mean() * 100:.2f}%')\n"
   ]
  },
  {
   "cell_type": "code",
   "execution_count": 36,
   "id": "64352a13",
   "metadata": {},
   "outputs": [
    {
     "name": "stdout",
     "output_type": "stream",
     "text": [
      "Confusion Matrix:\n",
      "[[3269   39]\n",
      " [ 440   24]]\n",
      "\n",
      "Accuracy: 0.8730116648992576\n",
      "Error Rate: 0.12698833510074237\n",
      "Precision: 0.38095238095238093\n",
      "Recall: 0.05172413793103448\n",
      "F1-score: 0.09108159392789375\n"
     ]
    }
   ],
   "source": [
    "from sklearn.model_selection import cross_val_predict\n",
    "from sklearn.metrics import confusion_matrix, accuracy_score, precision_score, recall_score, f1_score\n",
    "# Define features and target variable\n",
    "features = ['TSH', 'T3', 'TT4']\n",
    "target = 'on thyroxine'\n",
    "\n",
    "# Encode boolean values into numerical values (0 and 1)\n",
    "label_encoder = LabelEncoder()\n",
    "df[target] = label_encoder.fit_transform(df[target])\n",
    "\n",
    "# Handle missing values by replacing '?' with the mean of each column\n",
    "df.replace('?', float('nan'), inplace=True)\n",
    "imputer = SimpleImputer(strategy='mean')\n",
    "df[features] = imputer.fit_transform(df[features])\n",
    "\n",
    "# Initialize the LDA model\n",
    "lda = LinearDiscriminantAnalysis()\n",
    "\n",
    "# Make predictions using cross-validation\n",
    "predictions = cross_val_predict(lda, df[features], df[target], cv=10)\n",
    "\n",
    "# Calculate and display the confusion matrix\n",
    "conf_matrix = confusion_matrix(df[target], predictions)\n",
    "print(\"Confusion Matrix:\")\n",
    "print(conf_matrix)\n",
    "\n",
    "# Calculate and display accuracy, error rate, precision, recall, and F1-score\n",
    "accuracy = accuracy_score(df[target], predictions)\n",
    "error_rate = 1 - accuracy\n",
    "precision = precision_score(df[target], predictions)\n",
    "recall = recall_score(df[target], predictions)\n",
    "f1 = f1_score(df[target], predictions)\n",
    "\n",
    "print(\"\\nAccuracy:\", accuracy)\n",
    "print(\"Error Rate:\", error_rate)\n",
    "print(\"Precision:\", precision)\n",
    "print(\"Recall:\", recall)\n",
    "print(\"F1-score:\", f1)\n"
   ]
  },
  {
   "cell_type": "code",
   "execution_count": 37,
   "id": "170e2017",
   "metadata": {},
   "outputs": [
    {
     "name": "stdout",
     "output_type": "stream",
     "text": [
      "Training Accuracy: 87.60%\n",
      "Test Accuracy: 86.75%\n",
      "The model may be overfitting.\n"
     ]
    }
   ],
   "source": [
    "\n",
    "# Define features and target variable\n",
    "features = ['TSH', 'T3', 'TT4']\n",
    "target = 'on thyroxine'\n",
    "\n",
    "# Encode boolean values into numerical values (0 and 1)\n",
    "label_encoder = LabelEncoder()\n",
    "df[target] = label_encoder.fit_transform(df[target])\n",
    "\n",
    "# Handle missing values by replacing '?' with the mean of each column\n",
    "df.replace('?', float('nan'), inplace=True)\n",
    "imputer = SimpleImputer(strategy='mean')\n",
    "df[features] = imputer.fit_transform(df[features])\n",
    "\n",
    "# Split the data into training and test sets (80% train, 20% test)\n",
    "train_data, test_data, train_target, test_target = train_test_split(\n",
    "    df[features], df[target], test_size=0.2, random_state=42\n",
    ")\n",
    "\n",
    "# Initialize the LDA model\n",
    "lda = LinearDiscriminantAnalysis()\n",
    "\n",
    "# Fit the model on the training data\n",
    "lda.fit(train_data, train_target)\n",
    "\n",
    "# Make predictions on both training and test sets\n",
    "train_predictions = lda.predict(train_data)\n",
    "test_predictions = lda.predict(test_data)\n",
    "\n",
    "# Calculate accuracy on both sets\n",
    "train_accuracy = accuracy_score(train_target, train_predictions)\n",
    "test_accuracy = accuracy_score(test_target, test_predictions)\n",
    "\n",
    "print(f'Training Accuracy: {train_accuracy * 100:.2f}%')\n",
    "print(f'Test Accuracy: {test_accuracy * 100:.2f}%')\n",
    "\n",
    "# Compare training and test accuracies to detect overfitting or underfitting\n",
    "if train_accuracy > test_accuracy:\n",
    "    print(\"The model may be overfitting.\")\n",
    "elif train_accuracy < test_accuracy:\n",
    "    print(\"The model may be underfitting.\")\n",
    "else:\n",
    "    print(\"The model's performance is consistent on both training and test sets.\")\n"
   ]
  },
  {
   "cell_type": "code",
   "execution_count": 38,
   "id": "2fe05df5",
   "metadata": {},
   "outputs": [
    {
     "name": "stdout",
     "output_type": "stream",
     "text": [
      "Accuracy: 86.75%\n"
     ]
    }
   ],
   "source": [
    "# PCA \n",
    "from sklearn.linear_model import LogisticRegression\n",
    "from sklearn.metrics import accuracy_score\n",
    "from sklearn.preprocessing import StandardScaler\n",
    "from sklearn.decomposition import PCA\n",
    "from sklearn.pipeline import make_pipeline\n",
    "# Define features and target variable\n",
    "features = ['TSH', 'T3', 'TT4']\n",
    "target = 'on thyroxine'\n",
    "\n",
    "# Encode boolean values into numerical values (0 and 1)\n",
    "label_encoder = LabelEncoder()\n",
    "df[target] = label_encoder.fit_transform(df[target])\n",
    "\n",
    "# Handle missing values by replacing '?' with the mean of each column\n",
    "df.replace('?', float('nan'), inplace=True)\n",
    "imputer = SimpleImputer(strategy='mean')\n",
    "df[features] = imputer.fit_transform(df[features])\n",
    "\n",
    "# Split the data into training and test sets (80% train, 20% test)\n",
    "train_data, test_data, train_target, test_target = train_test_split(\n",
    "    df[features], df[target], test_size=0.2, random_state=42\n",
    ")\n",
    "\n",
    "# Standardize the data (important for PCA)\n",
    "scaler = StandardScaler()\n",
    "\n",
    "# Initialize PCA with the number of components you want to retain\n",
    "pca = PCA(n_components=2)\n",
    "\n",
    "# Create a pipeline with scaling and PCA\n",
    "pca_pipeline = make_pipeline(scaler, pca)\n",
    "\n",
    "# Fit and transform the training data\n",
    "train_data_pca = pca_pipeline.fit_transform(train_data)\n",
    "\n",
    "# Transform the test data\n",
    "test_data_pca = pca_pipeline.transform(test_data)\n",
    "# Initialize Logistic Regression model\n",
    "model = LogisticRegression(random_state=42)\n",
    "\n",
    "# Train the model on the PCA-transformed training data\n",
    "model.fit(train_data_pca, train_target)\n",
    "\n",
    "# Make predictions on the test data\n",
    "predictions = model.predict(test_data_pca)\n",
    "\n",
    "# Evaluate the accuracy of the model\n",
    "accuracy = accuracy_score(test_target, predictions)\n",
    "print(f'Accuracy: {accuracy * 100:.2f}%')\n"
   ]
  },
  {
   "cell_type": "code",
   "execution_count": 39,
   "id": "e4d0c606",
   "metadata": {},
   "outputs": [
    {
     "name": "stdout",
     "output_type": "stream",
     "text": [
      "Fold 1: Accuracy = 88.41%\n",
      "Fold 2: Accuracy = 90.07%\n",
      "Fold 3: Accuracy = 89.74%\n",
      "Fold 4: Accuracy = 86.42%\n",
      "Fold 5: Accuracy = 89.07%\n",
      "Fold 6: Accuracy = 89.40%\n",
      "Fold 7: Accuracy = 87.42%\n",
      "Fold 8: Accuracy = 87.38%\n",
      "Fold 9: Accuracy = 86.38%\n",
      "Fold 10: Accuracy = 84.39%\n",
      "Average Accuracy: 87.87%\n"
     ]
    }
   ],
   "source": [
    "num_folds = 10\n",
    "\n",
    "# Initialize Logistic Regression model\n",
    "model = LogisticRegression(random_state=42)\n",
    "\n",
    "# Initialize PCA with 2 components\n",
    "pca = PCA(n_components=2)\n",
    "\n",
    "# Standardize the data (important for PCA)\n",
    "scaler = StandardScaler()\n",
    "\n",
    "# Create a pipeline with scaling and PCA\n",
    "pca_pipeline = make_pipeline(scaler, pca)\n",
    "\n",
    "# Combine PCA and the model into a single pipeline\n",
    "full_pipeline = make_pipeline(pca_pipeline, model)\n",
    "\n",
    "# Use KFold cross-validation to apply PCA in each fold\n",
    "kf = KFold(n_splits=num_folds, shuffle=True, random_state=42)\n",
    "\n",
    "# Perform cross-validation\n",
    "cv_scores = cross_val_score(full_pipeline, train_data_pca, train_target, cv=kf, scoring='accuracy')\n",
    "\n",
    "# Print the cross-validated accuracy scores for each fold\n",
    "for fold, score in enumerate(cv_scores, start=1):\n",
    "    print(f'Fold {fold}: Accuracy = {score * 100:.2f}%')\n",
    "\n",
    "# Print the average accuracy across all folds\n",
    "average_accuracy = np.mean(cv_scores)\n",
    "print(f'Average Accuracy: {average_accuracy * 100:.2f}%')"
   ]
  },
  {
   "cell_type": "code",
   "execution_count": 40,
   "id": "ebfeffe2",
   "metadata": {},
   "outputs": [
    {
     "name": "stdout",
     "output_type": "stream",
     "text": [
      "Confusion Matrix:\n",
      "[[2650    2]\n",
      " [ 364    1]]\n",
      "\n",
      "Accuracy: 0.8786874378521711\n",
      "Error Rate: 0.12131256214782893\n",
      "Precision: 0.3333333333333333\n",
      "Recall: 0.0027397260273972603\n",
      "F1-score: 0.005434782608695653\n",
      "The model's performance is reasonable.\n"
     ]
    }
   ],
   "source": [
    "# Choose the number of folds (e.g., 10-fold cross-validation)\n",
    "num_folds = 10\n",
    "\n",
    "# Initialize Logistic Regression model\n",
    "model = LogisticRegression(random_state=42)\n",
    "\n",
    "# Initialize PCA with 2 components\n",
    "pca = PCA(n_components=2)\n",
    "\n",
    "# Standardize the data (important for PCA)\n",
    "scaler = StandardScaler()\n",
    "\n",
    "# Create a pipeline with scaling and PCA\n",
    "pca_pipeline = make_pipeline(scaler, pca)\n",
    "\n",
    "# Combine PCA and the model into a single pipeline\n",
    "full_pipeline = make_pipeline(pca_pipeline, model)\n",
    "\n",
    "# Use KFold cross-validation to apply PCA in each fold\n",
    "kf = KFold(n_splits=num_folds, shuffle=True, random_state=42)\n",
    "\n",
    "# Perform cross-validation\n",
    "predictions = cross_val_predict(full_pipeline, train_data_pca, train_target, cv=kf)\n",
    "\n",
    "# Calculate and display the confusion matrix\n",
    "conf_matrix = confusion_matrix(train_target, predictions)\n",
    "print(\"Confusion Matrix:\")\n",
    "print(conf_matrix)\n",
    "\n",
    "# Calculate and display accuracy, error rate, precision, recall, and F1-score\n",
    "accuracy = accuracy_score(train_target, predictions)\n",
    "error_rate = 1 - accuracy\n",
    "precision = precision_score(train_target, predictions)\n",
    "recall = recall_score(train_target, predictions)\n",
    "f1 = f1_score(train_target, predictions)\n",
    "\n",
    "print(\"\\nAccuracy:\", accuracy)\n",
    "print(\"Error Rate:\", error_rate)\n",
    "print(\"Precision:\", precision)\n",
    "print(\"Recall:\", recall)\n",
    "print(\"F1-score:\", f1)\n",
    "\n",
    "# Determine if the model is overfitting or underfitting\n",
    "if accuracy > 0.95:\n",
    "    print(\"The model may be overfitting.\")\n",
    "elif accuracy < 0.80:\n",
    "    print(\"The model may be underfitting.\")\n",
    "else:\n",
    "    print(\"The model's performance is reasonable.\")\n"
   ]
  },
  {
   "cell_type": "code",
   "execution_count": 41,
   "id": "5c676e13",
   "metadata": {},
   "outputs": [
    {
     "name": "stdout",
     "output_type": "stream",
     "text": [
      "Accuracy: 86.23%\n"
     ]
    }
   ],
   "source": [
    "from sklearn.naive_bayes import GaussianNB\n",
    "from sklearn.metrics import accuracy_score\n",
    "\n",
    "# Define features and target variable\n",
    "features = ['TSH', 'T3', 'TT4']\n",
    "target = 'on thyroxine'\n",
    "\n",
    "# Encode boolean values into numerical values (0 and 1)\n",
    "label_encoder = LabelEncoder()\n",
    "df[target] = label_encoder.fit_transform(df[target])\n",
    "\n",
    "# Handle missing values by replacing '?' with the mean of each column\n",
    "df.replace('?', float('nan'), inplace=True)\n",
    "imputer = SimpleImputer(strategy='mean')\n",
    "df[features] = imputer.fit_transform(df[features])\n",
    "\n",
    "# Split the data into training and test sets (80% train, 20% test)\n",
    "train_data, test_data, train_target, test_target = train_test_split(\n",
    "    df[features], df[target], test_size=0.2, random_state=42\n",
    ")\n",
    "\n",
    "# Initialize Gaussian Naive Bayes model\n",
    "nb_model = GaussianNB()\n",
    "\n",
    "# Train the model on the training data\n",
    "nb_model.fit(train_data, train_target)\n",
    "\n",
    "# Make predictions on the test data\n",
    "predictions = nb_model.predict(test_data)\n",
    "\n",
    "# Calculate and print the accuracy\n",
    "accuracy = accuracy_score(test_target, predictions)\n",
    "print(f'Accuracy: {accuracy * 100:.2f}%')\n"
   ]
  },
  {
   "cell_type": "code",
   "execution_count": 42,
   "id": "e52fc18d",
   "metadata": {},
   "outputs": [
    {
     "name": "stdout",
     "output_type": "stream",
     "text": [
      "Fold 1: Accuracy = 86.24%\n",
      "Fold 2: Accuracy = 85.98%\n",
      "Fold 3: Accuracy = 89.12%\n",
      "Fold 4: Accuracy = 87.80%\n",
      "Fold 5: Accuracy = 84.88%\n",
      "Fold 6: Accuracy = 86.47%\n",
      "Fold 7: Accuracy = 84.35%\n",
      "Fold 8: Accuracy = 88.86%\n",
      "Fold 9: Accuracy = 85.94%\n",
      "Fold 10: Accuracy = 88.86%\n",
      "Average Accuracy: 86.85%\n"
     ]
    }
   ],
   "source": [
    "# Define features and target variable\n",
    "features = ['TSH', 'T3', 'TT4']\n",
    "target = 'on thyroxine'\n",
    "\n",
    "# Encode boolean values into numerical values (0 and 1)\n",
    "label_encoder = LabelEncoder()\n",
    "df[target] = label_encoder.fit_transform(df[target])\n",
    "\n",
    "# Handle missing values by replacing '?' with the mean of each column\n",
    "df.replace('?', float('nan'), inplace=True)\n",
    "imputer = SimpleImputer(strategy='mean')\n",
    "df[features] = imputer.fit_transform(df[features])\n",
    "\n",
    "# Initialize Gaussian Naive Bayes model\n",
    "nb_model = GaussianNB()\n",
    "\n",
    "# Use KFold cross-validation with 10 folds\n",
    "kf = KFold(n_splits=10, shuffle=True, random_state=42)\n",
    "\n",
    "# Perform cross-validation\n",
    "cv_scores = cross_val_score(nb_model, df[features], df[target], cv=kf, scoring='accuracy')\n",
    "\n",
    "# Print the cross-validated accuracy scores for each fold\n",
    "for fold, score in enumerate(cv_scores, start=1):\n",
    "    print(f'Fold {fold}: Accuracy = {score * 100:.2f}%')\n",
    "\n",
    "# Print the average accuracy across all folds\n",
    "average_accuracy = cv_scores.mean()\n",
    "print(f'Average Accuracy: {average_accuracy * 100:.2f}%')"
   ]
  },
  {
   "cell_type": "code",
   "execution_count": 43,
   "id": "7fce2060",
   "metadata": {
    "scrolled": true
   },
   "outputs": [
    {
     "name": "stdout",
     "output_type": "stream",
     "text": [
      "Confusion Matrix:\n",
      "[[3254   54]\n",
      " [ 442   22]]\n",
      "\n",
      "Accuracy: 0.8685047720042418\n",
      "Error Rate: 0.1314952279957582\n",
      "Precision: 0.2894736842105263\n",
      "Recall: 0.04741379310344827\n",
      "F1-score: 0.08148148148148147\n",
      "The model's performance is reasonable.\n"
     ]
    }
   ],
   "source": [
    "from sklearn.model_selection import KFold, cross_val_predict\n",
    "from sklearn.metrics import confusion_matrix, accuracy_score, precision_score, recall_score, f1_score\n",
    "from sklearn.preprocessing import LabelEncoder\n",
    "from sklearn.impute import SimpleImputer\n",
    "from sklearn.naive_bayes import GaussianNB\n",
    "\n",
    "# Define features and target variable\n",
    "features = ['TSH', 'T3', 'TT4']\n",
    "target = 'on thyroxine'\n",
    "\n",
    "# Encode boolean values into numerical values (0 and 1)\n",
    "label_encoder = LabelEncoder()\n",
    "df[target] = label_encoder.fit_transform(df[target])\n",
    "\n",
    "# Handle missing values by replacing '?' with the mean of each column\n",
    "df.replace('?', float('nan'), inplace=True)\n",
    "imputer = SimpleImputer(strategy='mean')\n",
    "df[features] = imputer.fit_transform(df[features])\n",
    "\n",
    "# Initialize Gaussian Naive Bayes model\n",
    "nb_model = GaussianNB()\n",
    "\n",
    "# Use KFold cross-validation with 10 folds\n",
    "kf = KFold(n_splits=10, shuffle=True, random_state=42)\n",
    "\n",
    "# Perform cross-validation\n",
    "predictions = cross_val_predict(nb_model, df[features], df[target], cv=kf)\n",
    "\n",
    "# Calculate and display the confusion matrix\n",
    "conf_matrix = confusion_matrix(df[target], predictions)\n",
    "print(\"Confusion Matrix:\")\n",
    "print(conf_matrix)\n",
    "\n",
    "# Calculate and display accuracy, error rate, precision, recall, and F1-score\n",
    "accuracy = accuracy_score(df[target], predictions)\n",
    "error_rate = 1 - accuracy\n",
    "precision = precision_score(df[target], predictions)\n",
    "recall = recall_score(df[target], predictions)\n",
    "f1 = f1_score(df[target], predictions)\n",
    "\n",
    "print(\"\\nAccuracy:\", accuracy)\n",
    "print(\"Error Rate:\", error_rate)\n",
    "print(\"Precision:\", precision)\n",
    "print(\"Recall:\", recall)\n",
    "print(\"F1-score:\", f1)\n",
    "\n",
    "# Determine if the model is overfitting or underfitting\n",
    "if accuracy > 0.95:\n",
    "    print(\"The model may be overfitting.\")\n",
    "elif accuracy < 0.80:\n",
    "    print(\"The model may be underfitting.\")\n",
    "else:\n",
    "    print(\"The model's performance is reasonable.\")\n"
   ]
  },
  {
   "cell_type": "code",
   "execution_count": 1,
   "id": "9c57c252",
   "metadata": {},
   "outputs": [
    {
     "ename": "ModuleNotFoundError",
     "evalue": "No module named 'pymc3'",
     "output_type": "error",
     "traceback": [
      "\u001b[1;31m---------------------------------------------------------------------------\u001b[0m",
      "\u001b[1;31mModuleNotFoundError\u001b[0m                       Traceback (most recent call last)",
      "\u001b[1;32m~\\AppData\\Local\\Temp/ipykernel_5112/1514101584.py\u001b[0m in \u001b[0;36m<module>\u001b[1;34m\u001b[0m\n\u001b[1;32m----> 1\u001b[1;33m \u001b[1;32mimport\u001b[0m \u001b[0mpymc3\u001b[0m \u001b[1;32mas\u001b[0m \u001b[0mpm\u001b[0m\u001b[1;33m\u001b[0m\u001b[1;33m\u001b[0m\u001b[0m\n\u001b[0m\u001b[0;32m      2\u001b[0m \u001b[1;32mimport\u001b[0m \u001b[0mnumpy\u001b[0m \u001b[1;32mas\u001b[0m \u001b[0mnp\u001b[0m\u001b[1;33m\u001b[0m\u001b[1;33m\u001b[0m\u001b[0m\n\u001b[0;32m      3\u001b[0m \u001b[1;33m\u001b[0m\u001b[0m\n\u001b[0;32m      4\u001b[0m \u001b[1;31m# Generate synthetic data\u001b[0m\u001b[1;33m\u001b[0m\u001b[1;33m\u001b[0m\u001b[0m\n\u001b[0;32m      5\u001b[0m \u001b[0mnp\u001b[0m\u001b[1;33m.\u001b[0m\u001b[0mrandom\u001b[0m\u001b[1;33m.\u001b[0m\u001b[0mseed\u001b[0m\u001b[1;33m(\u001b[0m\u001b[1;36m42\u001b[0m\u001b[1;33m)\u001b[0m\u001b[1;33m\u001b[0m\u001b[1;33m\u001b[0m\u001b[0m\n",
      "\u001b[1;31mModuleNotFoundError\u001b[0m: No module named 'pymc3'"
     ]
    }
   ],
   "source": [
    "import pymc3 as pm\n",
    "import numpy as np\n",
    "\n",
    "# Generate synthetic data \n",
    "np.random.seed(42)\n",
    "n_samples = 1000\n",
    "TSH = np.random.normal(2.5, 1.0, n_samples)\n",
    "T3 = np.random.normal(3.0, 1.2, n_samples)\n",
    "TT4 = np.random.normal(100, 15, n_samples)\n",
    "\n",
    "# Assume on_thyroxine is influenced by TSH, T3, and TT4\n",
    "on_thyroxine_prob = pm.invlogit(0.5 * TSH - 0.8 * T3 + 0.2 * TT4)\n",
    "\n",
    "# Simulate binary on_thyroxine values based on probabilities\n",
    "on_thyroxine = np.random.binomial(1, on_thyroxine_prob)\n",
    "\n",
    "# Build Bayesian network model\n",
    "with pm.Model() as model:\n",
    "    # Priors for parameters\n",
    "    alpha = pm.Normal('alpha', mu=0, sd=10)\n",
    "    beta_tsh = pm.Normal('beta_tsh', mu=0, sd=1)\n",
    "    beta_t3 = pm.Normal('beta_t3', mu=0, sd=1)\n",
    "    beta_tt4 = pm.Normal('beta_tt4', mu=0, sd=1)\n",
    "\n",
    "    # Linear combination\n",
    "    eta = alpha + beta_tsh * TSH + beta_t3 * T3 + beta_tt4 * TT4\n",
    "\n",
    "    # Logistic function to model probability\n",
    "    p = pm.invlogit(eta)\n",
    "\n",
    "    # Binary likelihood (on_thyroxine)\n",
    "    on_thyroxine_obs = pm.Bernoulli('on_thyroxine_obs', p, observed=on_thyroxine)\n",
    "\n",
    "# Perform inference\n",
    "with model:\n",
    "    trace = pm.sample(1000, tune=1000)\n",
    "\n",
    "# Print summary statistics\n",
    "print(pm.summary(trace))\n",
    "\n"
   ]
  },
  {
   "cell_type": "code",
   "execution_count": 45,
   "id": "c47bf838",
   "metadata": {},
   "outputs": [
    {
     "name": "stdout",
     "output_type": "stream",
     "text": [
      "Accuracy: 80.66%\n",
      "Error Rate: 19.34%\n"
     ]
    }
   ],
   "source": [
    "from sklearn.tree import DecisionTreeClassifier\n",
    "\n",
    "# Define features and target variable\n",
    "features = ['TSH', 'T3', 'TT4']\n",
    "target = 'on thyroxine'\n",
    "\n",
    "# Encode boolean values into numerical values (0 and 1)\n",
    "label_encoder = LabelEncoder()\n",
    "df[target] = label_encoder.fit_transform(df[target])\n",
    "\n",
    "# Handle missing values by replacing '?' with the mean of each column\n",
    "df.replace('?', float('nan'), inplace=True)\n",
    "imputer = SimpleImputer(strategy='mean')\n",
    "df[features] = imputer.fit_transform(df[features])\n",
    "\n",
    "# Split the data into training and test sets\n",
    "train_data, test_data, train_target, test_target = train_test_split(\n",
    "    df[features], df[target], test_size=0.2, random_state=42\n",
    ")\n",
    "\n",
    "# Initialize Decision Tree model with entropy criterion\n",
    "dt_model = DecisionTreeClassifier(criterion='entropy', random_state=42)\n",
    "\n",
    "# Train the model on the training data\n",
    "dt_model.fit(train_data, train_target)\n",
    "\n",
    "# Make predictions on the test data\n",
    "predictions = dt_model.predict(test_data)\n",
    "\n",
    "# Calculate and print the accuracy\n",
    "accuracy = accuracy_score(test_target, predictions)\n",
    "print(f'Accuracy: {accuracy * 100:.2f}%')\n",
    "\n",
    "# Estimate error (misclassification rate)\n",
    "error_rate = 1 - accuracy\n",
    "print(f'Error Rate: {error_rate * 100:.2f}%')\n"
   ]
  },
  {
   "cell_type": "code",
   "execution_count": 46,
   "id": "48249142",
   "metadata": {},
   "outputs": [
    {
     "name": "stdout",
     "output_type": "stream",
     "text": [
      "Fold 1: Accuracy = 82.80%\n",
      "Fold 2: Accuracy = 82.01%\n",
      "Fold 3: Accuracy = 83.55%\n",
      "Fold 4: Accuracy = 83.29%\n",
      "Fold 5: Accuracy = 78.51%\n",
      "Fold 6: Accuracy = 80.11%\n",
      "Fold 7: Accuracy = 81.43%\n",
      "Fold 8: Accuracy = 81.96%\n",
      "Fold 9: Accuracy = 81.17%\n",
      "Fold 10: Accuracy = 81.96%\n",
      "Average Accuracy: 81.68%\n",
      "Error Rate: 18.32%\n"
     ]
    }
   ],
   "source": [
    "# Encode boolean values into numerical values (0 and 1)\n",
    "label_encoder = LabelEncoder()\n",
    "df[target] = label_encoder.fit_transform(df[target])\n",
    "\n",
    "# Handle missing values by replacing '?' with the mean of each column\n",
    "df.replace('?', float('nan'), inplace=True)\n",
    "imputer = SimpleImputer(strategy='mean')\n",
    "df[features] = imputer.fit_transform(df[features])\n",
    "\n",
    "# Initialize Decision Tree model with entropy criterion\n",
    "dt_model = DecisionTreeClassifier(criterion='entropy', random_state=42)\n",
    "\n",
    "# Use KFold cross-validation with 10 folds\n",
    "kf = KFold(n_splits=10, shuffle=True, random_state=42)\n",
    "\n",
    "# Perform cross-validation\n",
    "cv_scores = cross_val_score(dt_model, df[features], df[target], cv=kf, scoring='accuracy')\n",
    "\n",
    "# Print the cross-validated accuracy scores for each fold\n",
    "for fold, score in enumerate(cv_scores, start=1):\n",
    "    print(f'Fold {fold}: Accuracy = {score * 100:.2f}%')\n",
    "\n",
    "# Print the average accuracy across all folds\n",
    "average_accuracy = cv_scores.mean()\n",
    "print(f'Average Accuracy: {average_accuracy * 100:.2f}%')\n",
    "\n",
    "# Estimate error (misclassification rate)\n",
    "error_rate = 1 - average_accuracy\n",
    "print(f'Error Rate: {error_rate * 100:.2f}%')"
   ]
  },
  {
   "cell_type": "code",
   "execution_count": 47,
   "id": "71fabd5d",
   "metadata": {},
   "outputs": [
    {
     "name": "stdout",
     "output_type": "stream",
     "text": [
      "Confusion Matrix:\n",
      "[[2957  351]\n",
      " [ 340  124]]\n",
      "\n",
      "Accuracy: 0.8168080593849417\n",
      "The model's performance is reasonable.\n"
     ]
    }
   ],
   "source": [
    "# Define features and target variable\n",
    "features = ['TSH', 'T3', 'TT4']\n",
    "target = 'on thyroxine'\n",
    "\n",
    "# Encode boolean values into numerical values (0 and 1)\n",
    "label_encoder = LabelEncoder()\n",
    "df[target] = label_encoder.fit_transform(df[target])\n",
    "\n",
    "# Handle missing values by replacing '?' with the mean of each column\n",
    "df.replace('?', float('nan'), inplace=True)\n",
    "imputer = SimpleImputer(strategy='mean')\n",
    "df[features] = imputer.fit_transform(df[features])\n",
    "\n",
    "# Initialize Decision Tree model with entropy criterion\n",
    "dt_model = DecisionTreeClassifier(criterion='entropy', random_state=42)\n",
    "\n",
    "# Use KFold cross-validation with 10 folds\n",
    "kf = KFold(n_splits=10, shuffle=True, random_state=42)\n",
    "\n",
    "# Perform cross-validation\n",
    "predictions = cross_val_predict(dt_model, df[features], df[target], cv=kf)\n",
    "\n",
    "# Calculate and display the confusion matrix\n",
    "conf_matrix = confusion_matrix(df[target], predictions)\n",
    "print(\"Confusion Matrix:\")\n",
    "print(conf_matrix)\n",
    "\n",
    "# Calculate and display accuracy\n",
    "accuracy = accuracy_score(df[target], predictions)\n",
    "print(\"\\nAccuracy:\", accuracy)\n",
    "\n",
    "# Determine if the model is overfitting or underfitting\n",
    "if accuracy > 0.95:\n",
    "    print(\"The model may be overfitting.\")\n",
    "elif accuracy < 0.80:\n",
    "    print(\"The model may be underfitting.\")\n",
    "else:\n",
    "    print(\"The model's performance is reasonable.\")\n"
   ]
  },
  {
   "cell_type": "code",
   "execution_count": 48,
   "id": "ffbe5e36",
   "metadata": {},
   "outputs": [
    {
     "name": "stdout",
     "output_type": "stream",
     "text": [
      "Accuracy with Euclidean Distance: 86.09%\n"
     ]
    }
   ],
   "source": [
    "# knn Eculidian distance \n",
    "from sklearn.neighbors import KNeighborsClassifier\n",
    "\n",
    "# Define features and target variable\n",
    "features = ['TSH', 'T3', 'TT4']\n",
    "target = 'on thyroxine'\n",
    "\n",
    "# Encode boolean values into numerical values (0 and 1)\n",
    "label_encoder = LabelEncoder()\n",
    "df[target] = label_encoder.fit_transform(df[target])\n",
    "\n",
    "# Handle missing values by replacing '?' with the mean of each column\n",
    "df.replace('?', float('nan'), inplace=True)\n",
    "imputer = SimpleImputer(strategy='mean')\n",
    "df[features] = imputer.fit_transform(df[features])\n",
    "\n",
    "# Split the data into training and test sets\n",
    "train_data, test_data, train_target, test_target = train_test_split(\n",
    "    df[features], df[target], test_size=0.2, random_state=42\n",
    ")\n",
    "\n",
    "# Initialize KNN model with Euclidean distance\n",
    "knn_model_euclidean = KNeighborsClassifier(n_neighbors=5, metric='euclidean')\n",
    "\n",
    "# Train the model on the training data\n",
    "knn_model_euclidean.fit(train_data, train_target)\n",
    "\n",
    "# Make predictions on the test data\n",
    "predictions_euclidean = knn_model_euclidean.predict(test_data)\n",
    "\n",
    "# Calculate and print the accuracy for Euclidean distance\n",
    "accuracy_euclidean = accuracy_score(test_target, predictions_euclidean)\n",
    "print(f'Accuracy with Euclidean Distance: {accuracy_euclidean * 100:.2f}%')\n"
   ]
  },
  {
   "cell_type": "code",
   "execution_count": 49,
   "id": "3522a050",
   "metadata": {},
   "outputs": [
    {
     "name": "stdout",
     "output_type": "stream",
     "text": [
      "Fold 1: Accuracy with Euclidean Distance = 87.30%\n",
      "Fold 2: Accuracy with Euclidean Distance = 85.45%\n",
      "Fold 3: Accuracy with Euclidean Distance = 86.21%\n",
      "Fold 4: Accuracy with Euclidean Distance = 85.15%\n",
      "Fold 5: Accuracy with Euclidean Distance = 85.68%\n",
      "Fold 6: Accuracy with Euclidean Distance = 84.88%\n",
      "Fold 7: Accuracy with Euclidean Distance = 85.41%\n",
      "Fold 8: Accuracy with Euclidean Distance = 87.00%\n",
      "Fold 9: Accuracy with Euclidean Distance = 85.15%\n",
      "Fold 10: Accuracy with Euclidean Distance = 88.33%\n",
      "Average Accuracy with Euclidean Distance: 86.05%\n"
     ]
    }
   ],
   "source": [
    "from sklearn.model_selection import cross_val_score, KFold\n",
    "from sklearn.neighbors import KNeighborsClassifier\n",
    "from sklearn.metrics import accuracy_score\n",
    "from sklearn.preprocessing import LabelEncoder\n",
    "from sklearn.impute import SimpleImputer\n",
    "\n",
    "# Define features and target variable\n",
    "features = ['TSH', 'T3', 'TT4']\n",
    "target = 'on thyroxine'\n",
    "\n",
    "# Encode boolean values into numerical values (0 and 1)\n",
    "label_encoder = LabelEncoder()\n",
    "df[target] = label_encoder.fit_transform(df[target])\n",
    "\n",
    "# Handle missing values by replacing '?' with the mean of each column\n",
    "df.replace('?', float('nan'), inplace=True)\n",
    "imputer = SimpleImputer(strategy='mean')\n",
    "df[features] = imputer.fit_transform(df[features])\n",
    "\n",
    "# Initialize KNN model with Euclidean distance\n",
    "knn_euclidean = KNeighborsClassifier(n_neighbors=5, metric='euclidean')\n",
    "\n",
    "# Use KFold cross-validation with 10 folds\n",
    "kf = KFold(n_splits=10, shuffle=True, random_state=42)\n",
    "\n",
    "# Perform cross-validation\n",
    "cv_scores_euclidean = cross_val_score(knn_euclidean, df[features], df[target], cv=kf, scoring='accuracy')\n",
    "\n",
    "# Print the cross-validated accuracy scores for each fold\n",
    "for fold, score in enumerate(cv_scores_euclidean, start=1):\n",
    "    print(f'Fold {fold}: Accuracy with Euclidean Distance = {score * 100:.2f}%')\n",
    "\n",
    "# Print the average accuracy across all folds\n",
    "average_accuracy_euclidean = cv_scores_euclidean.mean()\n",
    "print(f'Average Accuracy with Euclidean Distance: {average_accuracy_euclidean * 100:.2f}%')\n"
   ]
  },
  {
   "cell_type": "code",
   "execution_count": 50,
   "id": "39335372",
   "metadata": {},
   "outputs": [
    {
     "name": "stdout",
     "output_type": "stream",
     "text": [
      "Confusion Matrix with Euclidean Distance:\n",
      "[[3177  131]\n",
      " [ 395   69]]\n",
      "\n",
      "Accuracy with Euclidean Distance: 0.8605514316012726\n",
      "The model's performance is reasonable.\n"
     ]
    }
   ],
   "source": [
    "from sklearn.model_selection import cross_val_predict, KFold\n",
    "from sklearn.neighbors import KNeighborsClassifier\n",
    "from sklearn.metrics import confusion_matrix, accuracy_score\n",
    "from sklearn.preprocessing import LabelEncoder\n",
    "from sklearn.impute import SimpleImputer\n",
    "\n",
    "# Define features and target variable\n",
    "features = ['TSH', 'T3', 'TT4']\n",
    "target = 'on thyroxine'\n",
    "\n",
    "# Encode boolean values into numerical values (0 and 1)\n",
    "label_encoder = LabelEncoder()\n",
    "df[target] = label_encoder.fit_transform(df[target])\n",
    "\n",
    "# Handle missing values by replacing '?' with the mean of each column\n",
    "df.replace('?', float('nan'), inplace=True)\n",
    "imputer = SimpleImputer(strategy='mean')\n",
    "df[features] = imputer.fit_transform(df[features])\n",
    "\n",
    "# Initialize KNN model with Euclidean distance\n",
    "knn_euclidean = KNeighborsClassifier(n_neighbors=5, metric='euclidean')\n",
    "\n",
    "# Use KFold cross-validation with 10 folds\n",
    "kf = KFold(n_splits=10, shuffle=True, random_state=42)\n",
    "\n",
    "# Perform cross-validation\n",
    "predictions_euclidean = cross_val_predict(knn_euclidean, df[features], df[target], cv=kf)\n",
    "\n",
    "# Calculate and display the confusion matrix\n",
    "conf_matrix_euclidean = confusion_matrix(df[target], predictions_euclidean)\n",
    "print(\"Confusion Matrix with Euclidean Distance:\")\n",
    "print(conf_matrix_euclidean)\n",
    "\n",
    "# Calculate and display accuracy\n",
    "accuracy_euclidean = accuracy_score(df[target], predictions_euclidean)\n",
    "print(\"\\nAccuracy with Euclidean Distance:\", accuracy_euclidean)\n",
    "\n",
    "# Determine if the model is overfitting or underfitting\n",
    "if accuracy_euclidean > 0.95:\n",
    "    print(\"The model may be overfitting.\")\n",
    "elif accuracy_euclidean < 0.80:\n",
    "    print(\"The model may be underfitting.\")\n",
    "else:\n",
    "    print(\"The model's performance is reasonable.\")\n"
   ]
  },
  {
   "cell_type": "code",
   "execution_count": 51,
   "id": "227f4a0c",
   "metadata": {},
   "outputs": [
    {
     "name": "stdout",
     "output_type": "stream",
     "text": [
      "Accuracy with Manhattan Distance: 86.75%\n"
     ]
    }
   ],
   "source": [
    "# Initialize KNN model with Manhattan distance\n",
    "knn_manhattan = KNeighborsClassifier(n_neighbors=5, metric='manhattan')\n",
    "\n",
    "# Train the model on the training data\n",
    "knn_manhattan.fit(train_data, train_target)\n",
    "\n",
    "# Make predictions on the test data\n",
    "predictions_manhattan = knn_manhattan.predict(test_data)\n",
    "\n",
    "# Calculate and print the accuracy for Manhattan distance\n",
    "accuracy_manhattan = accuracy_score(test_target, predictions_manhattan)\n",
    "print(f'Accuracy with Manhattan Distance: {accuracy_manhattan * 100:.2f}%')\n"
   ]
  },
  {
   "cell_type": "code",
   "execution_count": 52,
   "id": "967fde2f",
   "metadata": {},
   "outputs": [
    {
     "name": "stdout",
     "output_type": "stream",
     "text": [
      "Fold 1: Accuracy with Manhattan Distance = 86.51%\n",
      "Fold 2: Accuracy with Manhattan Distance = 85.98%\n",
      "Fold 3: Accuracy with Manhattan Distance = 85.41%\n",
      "Fold 4: Accuracy with Manhattan Distance = 85.15%\n",
      "Fold 5: Accuracy with Manhattan Distance = 85.41%\n",
      "Fold 6: Accuracy with Manhattan Distance = 84.08%\n",
      "Fold 7: Accuracy with Manhattan Distance = 84.88%\n",
      "Fold 8: Accuracy with Manhattan Distance = 87.00%\n",
      "Fold 9: Accuracy with Manhattan Distance = 85.94%\n",
      "Fold 10: Accuracy with Manhattan Distance = 88.59%\n",
      "Average Accuracy with Manhattan Distance: 85.90%\n"
     ]
    }
   ],
   "source": [
    "# Define features and target variable\n",
    "features = ['TSH', 'T3', 'TT4']\n",
    "target = 'on thyroxine'\n",
    "\n",
    "# Encode boolean values into numerical values (0 and 1)\n",
    "label_encoder = LabelEncoder()\n",
    "df[target] = label_encoder.fit_transform(df[target])\n",
    "\n",
    "# Handle missing values by replacing '?' with the mean of each column\n",
    "df.replace('?', float('nan'), inplace=True)\n",
    "imputer = SimpleImputer(strategy='mean')\n",
    "df[features] = imputer.fit_transform(df[features])\n",
    "\n",
    "# Initialize KNN model with Manhattan distance\n",
    "knn_manhattan = KNeighborsClassifier(n_neighbors=5, metric='manhattan')\n",
    "\n",
    "# Use KFold cross-validation with 10 folds\n",
    "kf = KFold(n_splits=10, shuffle=True, random_state=42)\n",
    "\n",
    "# Perform cross-validation\n",
    "cv_scores_manhattan = cross_val_score(knn_manhattan, df[features], df[target], cv=kf, scoring='accuracy')\n",
    "\n",
    "# Print the cross-validated accuracy scores for each fold\n",
    "for fold, score in enumerate(cv_scores_manhattan, start=1):\n",
    "    print(f'Fold {fold}: Accuracy with Manhattan Distance = {score * 100:.2f}%')\n",
    "\n",
    "# Print the average accuracy across all folds\n",
    "average_accuracy_manhattan = cv_scores_manhattan.mean()\n",
    "print(f'Average Accuracy with Manhattan Distance: {average_accuracy_manhattan * 100:.2f}%')\n"
   ]
  },
  {
   "cell_type": "code",
   "execution_count": 53,
   "id": "f32502a1",
   "metadata": {},
   "outputs": [
    {
     "name": "stdout",
     "output_type": "stream",
     "text": [
      "Confusion Matrix with Manhattan Distance:\n",
      "[[3170  138]\n",
      " [ 394   70]]\n",
      "\n",
      "Accuracy with Manhattan Distance: 0.8589607635206787\n",
      "The model's performance is reasonable.\n"
     ]
    }
   ],
   "source": [
    "# Define features and target variable\n",
    "features = ['TSH', 'T3', 'TT4']\n",
    "target = 'on thyroxine'\n",
    "\n",
    "# Encode boolean values into numerical values (0 and 1)\n",
    "label_encoder = LabelEncoder()\n",
    "df[target] = label_encoder.fit_transform(df[target])\n",
    "\n",
    "# Handle missing values by replacing '?' with the mean of each column\n",
    "df.replace('?', float('nan'), inplace=True)\n",
    "imputer = SimpleImputer(strategy='mean')\n",
    "df[features] = imputer.fit_transform(df[features])\n",
    "\n",
    "# Initialize KNN model with Manhattan distance\n",
    "knn_manhattan = KNeighborsClassifier(n_neighbors=5, metric='manhattan')\n",
    "\n",
    "# Use KFold cross-validation with 10 folds\n",
    "kf = KFold(n_splits=10, shuffle=True, random_state=42)\n",
    "\n",
    "# Perform cross-validation\n",
    "predictions_manhattan = cross_val_predict(knn_manhattan, df[features], df[target], cv=kf)\n",
    "\n",
    "# Calculate and display the confusion matrix\n",
    "conf_matrix_manhattan = confusion_matrix(df[target], predictions_manhattan)\n",
    "print(\"Confusion Matrix with Manhattan Distance:\")\n",
    "print(conf_matrix_manhattan)\n",
    "\n",
    "# Calculate and display accuracy\n",
    "accuracy_manhattan = accuracy_score(df[target], predictions_manhattan)\n",
    "print(\"\\nAccuracy with Manhattan Distance:\", accuracy_manhattan)\n",
    "\n",
    "# Determine if the model is overfitting or underfitting\n",
    "if accuracy_manhattan > 0.95:\n",
    "    print(\"The model may be overfitting.\")\n",
    "elif accuracy_manhattan < 0.80:\n",
    "    print(\"The model may be underfitting.\")\n",
    "else:\n",
    "    print(\"The model's performance is reasonable.\")\n"
   ]
  },
  {
   "cell_type": "markdown",
   "id": "6a0cdc0f",
   "metadata": {},
   "source": [
    "Data Set Information:\n",
    "From Garavan Institute\n",
    "Documentation: as given by Ross Quinlan\n",
    "https://archive.ics.uci.edu/ml/datasets/Thyroid+Disease"
   ]
  },
  {
   "cell_type": "markdown",
   "id": "5a435aed",
   "metadata": {},
   "source": [
    "Data set description \n",
    "The dataset contains a total of 3,772 entries, each corresponding to a unique patient, and encompasses 30 columns capturing various features relevant to thyroid-related conditions. The primary objective of the dataset is to assist in the detection of whether a patient should be prescribed thyroxine medication or not, based on the provided features\n",
    "https://www.kaggle.com/datasets/yasserhessein/thyroid-disease-data-se"
   ]
  },
  {
   "cell_type": "code",
   "execution_count": null,
   "id": "55fbfb50",
   "metadata": {},
   "outputs": [],
   "source": [
    "athor works\n",
    "https://www.kaggle.com/code/adiii1652/thyroid-disease-analysis(#K-Neighbour-Classifer)\n",
    "https://www.kaggle.com/code/dhruv0206/thyroid-disease-detection-using-deep-learning(using deep learning)\n",
    "    "
   ]
  }
 ],
 "metadata": {
  "kernelspec": {
   "display_name": "Python 3 (ipykernel)",
   "language": "python",
   "name": "python3"
  },
  "language_info": {
   "codemirror_mode": {
    "name": "ipython",
    "version": 3
   },
   "file_extension": ".py",
   "mimetype": "text/x-python",
   "name": "python",
   "nbconvert_exporter": "python",
   "pygments_lexer": "ipython3",
   "version": "3.9.7"
  }
 },
 "nbformat": 4,
 "nbformat_minor": 5
}
